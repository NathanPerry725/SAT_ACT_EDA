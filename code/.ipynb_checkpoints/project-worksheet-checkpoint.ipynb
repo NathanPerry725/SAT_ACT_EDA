{
 "cells": [
  {
   "cell_type": "markdown",
   "metadata": {},
   "source": [
    "<img src=\"http://imgur.com/1ZcRyrc.png\" style=\"float: left; margin: 20px; height: 55px\">\n",
    "\n",
    "# Project 1: Standardized Test Analysis"
   ]
  },
  {
   "cell_type": "markdown",
   "metadata": {},
   "source": [
    "--- \n",
    "# Part 1\n",
    "\n",
    "Part 1 requires knowledge of basic Python.\n",
    "\n",
    "---"
   ]
  },
  {
   "cell_type": "markdown",
   "metadata": {},
   "source": [
    "## Problem Statement"
   ]
  },
  {
   "cell_type": "markdown",
   "metadata": {},
   "source": [
    "I am attempting to determine the best value counties in Califonia to purchase a home, with quality of education being the main priority. I will gauge quality of education by using SAT and ACT results."
   ]
  },
  {
   "cell_type": "markdown",
   "metadata": {},
   "source": [
    "### Contents:\n",
    "- [Background](#Background)\n",
    "- [Data Import & Cleaning](#Data-Import-and-Cleaning)\n",
    "- [Exploratory Data Analysis](#Exploratory-Data-Analysis)\n",
    "- [Data Visualization](#Visualize-the-Data)\n",
    "- [Conclusions and Recommendations](#Conclusions-and-Recommendations)"
   ]
  },
  {
   "cell_type": "markdown",
   "metadata": {},
   "source": [
    "## Background"
   ]
  },
  {
   "cell_type": "markdown",
   "metadata": {},
   "source": [
    "The SAT and ACT are standardized tests that many colleges and universities in the United States require for their admissions process. This score is used along with other materials such as grade point average (GPA) and essay responses to determine whether or not a potential student will be accepted to the university.\n",
    "\n",
    "The SAT has two sections of the test: Evidence-Based Reading and Writing and Math ([*source*](https://www.princetonreview.com/college/sat-sections)). The ACT has 4 sections: English, Mathematics, Reading, and Science, with an additional optional writing section ([*source*](https://www.act.org/content/act/en/products-and-services/the-act/scores/understanding-your-scores.html)). They have different score ranges, which you can read more about on their websites or additional outside sources (a quick Google search will help you understand the scores for each test):\n",
    "* [SAT](https://collegereadiness.collegeboard.org/sat)\n",
    "* [ACT](https://www.act.org/content/act/en.html)\n",
    "\n",
    "Standardized tests have long been a controversial topic for students, administrators, and legislators. Since the 1940's, an increasing number of colleges have been using scores from sudents' performances on tests like the SAT and the ACT as a measure for college readiness and aptitude ([*source*](https://www.minotdailynews.com/news/local-news/2017/04/a-brief-history-of-the-sat-and-act/)). Supporters of these tests argue that these scores can be used as an objective measure to determine college admittance. Opponents of these tests claim that these tests are not accurate measures of students potential or ability and serve as an inequitable barrier to entry. Lately, more and more schools are opting to drop the SAT/ACT requirement for their Fall 2021 applications ([*read more about this here*](https://www.cnn.com/2020/04/14/us/coronavirus-colleges-sat-act-test-trnd/index.html))."
   ]
  },
  {
   "cell_type": "markdown",
   "metadata": {},
   "source": [
    "**To-Do:** *Fill out this cell (or edit the above cell) with any other background or information that is necessary for your problem statement.*"
   ]
  },
  {
   "cell_type": "markdown",
   "metadata": {},
   "source": [
    "### Choose your Data\n",
    "\n",
    "There are 10 datasets included in the [`data`](./data/) folder for this project. You are required to pick **at least two** of these to complete your analysis. Feel free to use more than two if you would like, or add other relevant datasets you find online.\n",
    "\n",
    "* [`act_2017.csv`](./data/act_2017.csv): 2017 ACT Scores by State\n",
    "* [`act_2018.csv`](./data/act_2018.csv): 2018 ACT Scores by State\n",
    "* [`act_2019.csv`](./data/act_2019.csv): 2019 ACT Scores by State\n",
    "* [`act_2019_ca.csv`](./data/act_2019_ca.csv): 2019 ACT Scores in California by School\n",
    "* [`sat_2017.csv`](./data/sat_2017.csv): 2017 SAT Scores by State\n",
    "* [`sat_2018.csv`](./data/sat_2018.csv): 2018 SAT Scores by State\n",
    "* [`sat_2019.csv`](./data/sat_2019.csv): 2019 SAT Scores by State\n",
    "* [`sat_2019_by_intended_college_major.csv`](./data/sat_2019_by_intended_college_major.csv): 2019 SAT Scores by Intended College Major\n",
    "* [`sat_2019_ca.csv`](./data/sat_2019_ca.csv): 2019 SAT Scores in California by School\n",
    "* [`sat_act_by_college.csv`](./data/sat_act_by_college.csv): Ranges of Accepted ACT & SAT Student Scores by Colleges"
   ]
  },
  {
   "cell_type": "markdown",
   "metadata": {},
   "source": [
    "The main datasets that I am going to use are act_2019_ca.csv and sat_2019_ca.csv. I also am using data from https://cdn.nar.realtor/sites/default/files/documents/2020-q4-county-median-home-prices-and-monthly-mortgage-payment-by-state-04-13-2021.pdf\n",
    "for median houing prices by county. I used sat_act_by_college.csv in order to calculate reference values."
   ]
  },
  {
   "cell_type": "markdown",
   "metadata": {},
   "source": [
    "### Outside Research"
   ]
  },
  {
   "cell_type": "markdown",
   "metadata": {},
   "source": [
    "Based on your problem statement and your chosen datasets, spend some time doing outside research on state policies or additional information that might be relevant. Summarize your findings below. If you bring in any outside tables or charts, make sure you are explicit about having borrowed them. If you quote any text, make sure that it renders as being quoted. **Make sure that you cite your sources.**"
   ]
  },
  {
   "cell_type": "markdown",
   "metadata": {},
   "source": [
    "Because my problem statement was real estate based, I researched real estate prices in California. I was able to find median home value by county at: https://cdn.nar.realtor/sites/default/files/documents/2020-q4-county-median-home-prices-and-monthly-mortgage-payment-by-state-04-13-2021.pdf."
   ]
  },
  {
   "cell_type": "markdown",
   "metadata": {},
   "source": [
    "### Coding Challenges\n",
    "\n",
    "1. Manually calculate mean:\n",
    "\n",
    "    Write a function that takes in values and returns the mean of the values. Create a list of numbers that you test on your function to check to make sure your function works!\n",
    "    \n",
    "    *Note*: Do not use any mean methods built-in to any Python libraries to do this! This should be done without importing any additional libraries."
   ]
  },
  {
   "cell_type": "code",
   "execution_count": 108,
   "metadata": {},
   "outputs": [
    {
     "data": {
      "text/plain": [
       "5.0"
      ]
     },
     "execution_count": 108,
     "metadata": {},
     "output_type": "execute_result"
    }
   ],
   "source": [
    "# Code:\n",
    "def ret_mean(lst):\n",
    "    return sum(lst)/len(lst)\n",
    "my_list = [1,2,3,4,5,6,7,8,9]\n",
    "ret_mean(my_list)"
   ]
  },
  {
   "cell_type": "markdown",
   "metadata": {},
   "source": [
    "2. Manually calculate standard deviation:\n",
    "\n",
    "    The formula for standard deviation is below:\n",
    "\n",
    "    $$\\sigma = \\sqrt{\\frac{1}{n}\\sum_{i=1}^n(x_i - \\mu)^2}$$\n",
    "\n",
    "    Where $x_i$ represents each value in the dataset, $\\mu$ represents the mean of all values in the dataset and $n$ represents the number of values in the dataset.\n",
    "\n",
    "    Write a function that takes in values and returns the standard deviation of the values using the formula above. Hint: use the function you wrote above to calculate the mean! Use the list of numbers you created above to test on your function.\n",
    "    \n",
    "    *Note*: Do not use any standard deviation methods built-in to any Python libraries to do this! This should be done without importing any additional libraries."
   ]
  },
  {
   "cell_type": "code",
   "execution_count": 109,
   "metadata": {},
   "outputs": [
    {
     "data": {
      "text/plain": [
       "2.581988897471611"
      ]
     },
     "execution_count": 109,
     "metadata": {},
     "output_type": "execute_result"
    }
   ],
   "source": [
    "# Code:\n",
    "def calc_stdev(lst):\n",
    "    avg = ret_mean(lst)\n",
    "    variance_ = sum([(i-avg)**2 for i in lst])/len(lst)\n",
    "    stdev = variance_ ** .5\n",
    "    return stdev\n",
    "calc_stdev(my_list)"
   ]
  },
  {
   "cell_type": "markdown",
   "metadata": {},
   "source": [
    "3. Data cleaning function:\n",
    "    \n",
    "    Write a function that takes in a string that is a number and a percent symbol (ex. '50%', '30.5%', etc.) and converts this to a float that is the decimal approximation of the percent. For example, inputting '50%' in your function should return 0.5, '30.5%' should return 0.305, etc. Make sure to test your function to make sure it works!\n",
    "\n",
    "You will use these functions later on in the project!"
   ]
  },
  {
   "cell_type": "code",
   "execution_count": 110,
   "metadata": {},
   "outputs": [
    {
     "data": {
      "text/plain": [
       "0.503"
      ]
     },
     "execution_count": 110,
     "metadata": {},
     "output_type": "execute_result"
    }
   ],
   "source": [
    "# Code:\n",
    "def clean_data(my_string):\n",
    "    new_string = my_string.replace('%','')\n",
    "    prcnt = float(new_string)/100\n",
    "    return prcnt\n",
    "my_prcnt = '50.3%'\n",
    "clean_data(my_prcnt)"
   ]
  },
  {
   "cell_type": "markdown",
   "metadata": {},
   "source": [
    "--- \n",
    "# Part 2\n",
    "\n",
    "Part 2 requires knowledge of Pandas, EDA, data cleaning, and data visualization.\n",
    "\n",
    "---"
   ]
  },
  {
   "cell_type": "markdown",
   "metadata": {},
   "source": [
    "*All libraries used should be added here*"
   ]
  },
  {
   "cell_type": "code",
   "execution_count": 111,
   "metadata": {},
   "outputs": [],
   "source": [
    "# Imports:\n",
    "import pandas as pd\n",
    "import numpy as np\n",
    "import math\n",
    "import seaborn as sns\n",
    "import matplotlib.pyplot as plt"
   ]
  },
  {
   "cell_type": "markdown",
   "metadata": {},
   "source": [
    "## Data Import and Cleaning"
   ]
  },
  {
   "cell_type": "markdown",
   "metadata": {},
   "source": [
    "### Data Import & Cleaning\n",
    "\n",
    "Import the datasets that you selected for this project and go through the following steps at a minimum. You are welcome to do further cleaning as you feel necessary:\n",
    "1. Display the data: print the first 5 rows of each dataframe to your Jupyter notebook.\n",
    "2. Check for missing values.\n",
    "3. Check for any obvious issues with the observations (keep in mind the minimum & maximum possible values for each test/subtest).\n",
    "4. Fix any errors you identified in steps 2-3.\n",
    "5. Display the data types of each feature.\n",
    "6. Fix any incorrect data types found in step 5.\n",
    "    - Fix any individual values preventing other columns from being the appropriate type.\n",
    "    - If your dataset has a column of percents (ex. '50%', '30.5%', etc.), use the function you wrote in Part 1 (coding challenges, number 3) to convert this to floats! *Hint*: use `.map()` or `.apply()`.\n",
    "7. Rename Columns.\n",
    "    - Column names should be all lowercase.\n",
    "    - Column names should not contain spaces (underscores will suffice--this allows for using the `df.column_name` method to access columns in addition to `df['column_name']`).\n",
    "    - Column names should be unique and informative.\n",
    "8. Drop unnecessary rows (if needed).\n",
    "9. Merge dataframes that can be merged.\n",
    "10. Perform any additional cleaning that you feel is necessary.\n",
    "11. Save your cleaned and merged dataframes as csv files."
   ]
  },
  {
   "cell_type": "code",
   "execution_count": 112,
   "metadata": {},
   "outputs": [],
   "source": [
    "# Importing data from colleges to calculate reference values\n",
    "college_data = pd.read_csv('../data/sat_act_by_college.csv')\n",
    "# Creating lists of each colleges 25th and 75th percentiles for ACT scores\n",
    "college_act25 = [float(s[0] + s[1]) for s in college_data['ACT Total 25th-75th Percentile'] if s[0] in '123']\n",
    "college_act75 = [float(s[-2] + s[-1]) for s in college_data['ACT Total 25th-75th Percentile'] if s[-2] in '123']\n",
    "# Storing Average Values\n",
    "avg_25th_act = ret_mean(college_act25)\n",
    "avg_75th_act = ret_mean(college_act75)"
   ]
  },
  {
   "cell_type": "code",
   "execution_count": 113,
   "metadata": {},
   "outputs": [],
   "source": [
    "# Importing main datasets for analysis\n",
    "act_data = pd.read_csv('../data/act_2019_ca.csv')\n",
    "sat_data = pd.read_csv('../data/sat_2019_ca.csv')"
   ]
  },
  {
   "cell_type": "code",
   "execution_count": 114,
   "metadata": {},
   "outputs": [],
   "source": [
    "# Importing county based housing prices from https://cdn.nar.realtor/sites/default/files/documents/2020-q4-county-median-home-prices-and-monthly-mortgage-payment-by-state-04-13-2021.pdf as dictionar\n",
    "county_housing = {'Alameda': 803_300,'Alpine':384_600,'Amador':330_200,'Butte':351_100,\n",
    "                  'Calaveras':336_300, 'Colusa':279_200,'Contra Costa':626_200,'Del Norte':230_300,'El Dorado':535_300\n",
    "                  ,'Fresno':306_400,'Glenn':245_500,'Humboldt':366_400, 'Imperial':244_300, 'Inyo':283_300, \n",
    "                  'Kern':253_000, 'Kings':265_200, 'Lake':268_700, 'Lassen':213_700, 'Los Angeles':673_200, \n",
    "                  'Madera':318_400, 'Marin':982_400, 'Mariposa':290_200, 'Mendocino':453_700, 'Merced':300_700,\n",
    "                  'Modoc':148_000, 'Mono':329_000, 'Monterey':633_600, 'Napa':692_900, 'Nevada':510_600, \n",
    "                  'Orange':757_900, 'Placer':570_200, 'Plumas':255_100, 'Riverside':411_000, 'Sacramento':416_100,\n",
    "                  'San Benito':544_200, 'San Bernardino':395_500, 'San Diego':653_700,'San Francisco':1_108_700,\n",
    "                  'San Joaquin':409_800, 'San Luis Obispo':658_600, 'San Mateo':1_123_400, 'Santa Barbara':610_300,\n",
    "                  'Santa Clara':1_120_400, 'Santa Cruz':845_300, 'Shasta':297_700, 'Sierra': 243_600,\n",
    "                  'Siskiyou':209_400, 'Solano':483_500, 'Sonoma': 678_000, 'Stanislaus':363_600, 'Sutter':333_200,\n",
    "                  'Tehama':256_300, 'Trinity':302_900, 'Tulare':260_300, 'Tuolumne':304_500, 'Ventura':658_500,\n",
    "                  'Yolo':500_400, 'Yuba': 307_900}"
   ]
  },
  {
   "cell_type": "code",
   "execution_count": 115,
   "metadata": {},
   "outputs": [],
   "source": [
    "# Making column names lowercase\n",
    "act_data.columns = [c.lower() for c in list(act_data.columns)]\n",
    "sat_data.columns = [b.lower() for b in list(sat_data.columns)]\n",
    "# Removing columns not neccesary for analysis\n",
    "act_data = act_data.drop(['cds','ccode','cdcode','scode','dname', 'rtype','enroll12','year','unnamed: 17'], axis = 1)\n",
    "# Removing percent columns for SAT as I will calculate new columns combining grades 11 and 12\n",
    "sat_data = sat_data.drop(['cds','ccode','cdcode','scode','dname','rtype','enroll12','enroll11','year','unnamed: 25','pcterwbenchmark12','pcterwbenchmark11','pctmathbenchmark12','pctmathbenchmark11','pctbothbenchmark12','pctbothbenchmark11'], axis =1)\n"
   ]
  },
  {
   "cell_type": "code",
   "execution_count": 116,
   "metadata": {},
   "outputs": [],
   "source": [
    "# If there were less than 15 test takers at the school, there is no reported data on scores. These schools were removed\n",
    "act_data = act_data.loc[act_data['numtsttakr'] > 14, :]\n",
    "sat_data = sat_data.loc[(sat_data['numtsttakr12'] > 14) | (sat_data['numtsttakr11'] > 14), :]"
   ]
  },
  {
   "cell_type": "code",
   "execution_count": 117,
   "metadata": {},
   "outputs": [],
   "source": [
    "# Combining grades 11 and 12 for SATs\n",
    "def combine_pct(my_row):\n",
    "    if float(my_row[2]) > 14 and float(my_row[3]) > 14:\n",
    "        num = (float(my_row[0])+float(my_row[1]))/(float(my_row[2])+float(my_row[3]))\n",
    "    elif float(my_row[2]) >14:\n",
    "        num = float(my_row[0])/float(my_row[2])\n",
    "    else:\n",
    "        num = float(my_row[1])/float(my_row[3])\n",
    "    return num*100\n",
    "sat_data['11_12_pcterwbenchmark'] = [combine_pct(row) for row in zip(sat_data['numerwbenchmark12'],sat_data['numerwbenchmark11'],sat_data['numtsttakr12'],sat_data['numtsttakr11'])]\n",
    "sat_data['11_12_pctmathbenchmark'] = [combine_pct(row) for row in zip(sat_data['nummathbenchmark12'],sat_data['nummathbenchmark11'],sat_data['numtsttakr12'],sat_data['numtsttakr11'])]\n",
    "sat_data['11_12_pctbothbenchmark'] = [combine_pct(row) for row in zip(sat_data['totnumbothbenchmark12'],sat_data['totnumbothbenchmark11'],sat_data['numtsttakr12'],sat_data['numtsttakr11'])]\n",
    "sat_data['11_12_numtsttakr'] = sat_data['numtsttakr11'] + sat_data['numtsttakr12']\n"
   ]
  },
  {
   "cell_type": "code",
   "execution_count": 118,
   "metadata": {},
   "outputs": [],
   "source": [
    "# Changing ACT values to numeric\n",
    "act_data[['avgscrread', 'avgscreng', 'avgscrmath', 'avgscrsci', 'pctge21']] = act_data[['avgscrread', 'avgscreng', 'avgscrmath', 'avgscrsci', 'pctge21']].apply(pd.to_numeric)\n",
    "# Creating column for combined ACT score \n",
    "act_data['avgcombact'] = [np.average(row) for row in zip(act_data['avgscrread'], act_data['avgscrmath'], act_data['avgscreng'], act_data['avgscrsci'])]\n"
   ]
  },
  {
   "cell_type": "code",
   "execution_count": 119,
   "metadata": {},
   "outputs": [],
   "source": [
    "# Creating merge of data grouped by county\n",
    "sat_county = sat_data[['cname','11_12_pcterwbenchmark','11_12_pctmathbenchmark','11_12_pctbothbenchmark']].groupby('cname').mean().reset_index()\n",
    "act_county = act_data[['cname','avgscrread','avgscreng','avgscrmath','avgscrsci','avgcombact', 'pctge21']].groupby('cname').mean().reset_index()\n",
    "c_merge = act_county.merge(sat_county, how = 'inner', on = 'cname')\n",
    "# Adding Column for mediana home value\n",
    "c_merge['med_home'] = c_merge['cname'].map(county_housing)\n"
   ]
  },
  {
   "cell_type": "code",
   "execution_count": 120,
   "metadata": {},
   "outputs": [],
   "source": [
    "# Removing row containing data for the entire state from dataframe. Saving values to reference in analysis\n",
    "state_data = c_merge.loc[c_merge['cname'] == 'State of California', :]\n",
    "c_merge = c_merge[c_merge['cname'] != 'State of California']"
   ]
  },
  {
   "cell_type": "code",
   "execution_count": 121,
   "metadata": {},
   "outputs": [
    {
     "name": "stdout",
     "output_type": "stream",
     "text": [
      "<class 'pandas.core.frame.DataFrame'>\n",
      "Int64Index: 54 entries, 0 to 54\n",
      "Data columns (total 11 columns):\n",
      " #   Column                  Non-Null Count  Dtype  \n",
      "---  ------                  --------------  -----  \n",
      " 0   cname                   54 non-null     object \n",
      " 1   avgscrread              54 non-null     float64\n",
      " 2   avgscreng               54 non-null     float64\n",
      " 3   avgscrmath              54 non-null     float64\n",
      " 4   avgscrsci               54 non-null     float64\n",
      " 5   avgcombact              54 non-null     float64\n",
      " 6   pctge21                 54 non-null     float64\n",
      " 7   11_12_pcterwbenchmark   54 non-null     float64\n",
      " 8   11_12_pctmathbenchmark  54 non-null     float64\n",
      " 9   11_12_pctbothbenchmark  54 non-null     float64\n",
      " 10  med_home                54 non-null     float64\n",
      "dtypes: float64(10), object(1)\n",
      "memory usage: 5.1+ KB\n"
     ]
    }
   ],
   "source": [
    "c_merge.info()"
   ]
  },
  {
   "cell_type": "markdown",
   "metadata": {},
   "source": [
    "### Data Dictionary\n",
    "\n",
    "Now that we've fixed our data, and given it appropriate names, let's create a [data dictionary](http://library.ucmerced.edu/node/10249). \n",
    "\n",
    "A data dictionary provides a quick overview of features/variables/columns, alongside data types and descriptions. The more descriptive you can be, the more useful this document is.\n",
    "\n",
    "Example of a Fictional Data Dictionary Entry: \n",
    "\n",
    "|Feature|Type|Dataset|Description|\n",
    "|---|---|---|---|\n",
    "|**county_pop**|*integer*|2010 census|The population of the county (units in thousands, where 2.5 represents 2500 people).| \n",
    "|**per_poverty**|*float*|2010 census|The percent of the county over the age of 18 living below the 200% of official US poverty rate (units percent to two decimal places 98.10 means 98.1%)|\n",
    "\n",
    "[Here's a quick link to a short guide for formatting markdown in Jupyter notebooks](https://jupyter-notebook.readthedocs.io/en/stable/examples/Notebook/Working%20With%20Markdown%20Cells.html).\n",
    "\n",
    "Provided is the skeleton for formatting a markdown table, with columns headers that will help you create a data dictionary to quickly summarize your data, as well as some examples. **This would be a great thing to copy and paste into your custom README for this project.**\n",
    "\n",
    "*Note*: if you are unsure of what a feature is, check the source of the data! This can be found in the README."
   ]
  },
  {
   "cell_type": "markdown",
   "metadata": {},
   "source": [
    "\n",
    "\n",
    "|Feature|Type|Dataset|Description|\n",
    "|---|---|---|---|\n",
    "|cname|object|All|The name of the county that the test taker attends school in|\n",
    "|avgscrread|float|2019 CA ACT|The average score on the Reading section of the ACT out of 36.|\n",
    "|avgscreng|float|2019 CA ACT|The average score on the English section of the ACT out of 36.|\n",
    "|avgscrmath|float|2019 CA ACT|The average score on the Math section of the ACT out of 36.|\n",
    "|avgscrsci|float|2019 CA ACT|The average score on the Science section of the ACT out of 36.|\n",
    "|avgcombact|float|2019 CA ACT|The average total score on the ACT out of 36. This is an average of the four sections of the ACT|\n",
    "|pctge21|float|2019 CA ACT|The percent of students who scored over 21 total on the ACTs.|\n",
    "|11_12_pcterwbenchmark|float|2019 CA SAT| The percent of students who scored above 480 out of 800 on the ERW section of the SATs|\n",
    "|11_12_pctmathbenchmark|float|2019 CA SAT| The percent of students who scored above 530 out of 800 on the Math section of the SATs|\n",
    "|11_12_pctbothbenchmark|float|2019 CA SAT| The percent of students who scored above the benchmarks on both sections of the SATs|\n",
    "|med_home|float|County Housing|The median home value in each county| \n"
   ]
  },
  {
   "cell_type": "markdown",
   "metadata": {},
   "source": [
    "## Exploratory Data Analysis\n",
    "\n",
    "Complete the following steps to explore your data. You are welcome to do more EDA than the steps outlined here as you feel necessary:\n",
    "1. Summary Statistics.\n",
    "2. Use a **dictionary comprehension** to apply the standard deviation function you create in part 1 to each numeric column in the dataframe.  **No loops**.\n",
    "    - Assign the output to variable `sd` as a dictionary where: \n",
    "        - Each column name is now a key \n",
    "        - That standard deviation of the column is the value \n",
    "        - *Example Output :* `{'ACT_Math': 120, 'ACT_Reading': 120, ...}`\n",
    "3. Investigate trends in the data.\n",
    "    - Using sorting and/or masking (along with the `.head()` method to avoid printing our entire dataframe), consider questions relevant to your problem statement. Some examples are provided below (but feel free to change these questions for your specific problem):\n",
    "        - Which states have the highest and lowest participation rates for the 2017, 2019, or 2019 SAT and ACT?\n",
    "        - Which states have the highest and lowest mean total/composite scores for the 2017, 2019, or 2019 SAT and ACT?\n",
    "        - Do any states with 100% participation on a given test have a rate change year-to-year?\n",
    "        - Do any states show have >50% participation on *both* tests each year?\n",
    "        - Which colleges have the highest median SAT and ACT scores for admittance?\n",
    "        - Which California school districts have the highest and lowest mean test scores?\n",
    "    - **You should comment on your findings at each step in a markdown cell below your code block**. Make sure you include at least one example of sorting your dataframe by a column, and one example of using boolean filtering (i.e., masking) to select a subset of the dataframe."
   ]
  },
  {
   "cell_type": "code",
   "execution_count": 123,
   "metadata": {},
   "outputs": [
    {
     "data": {
      "text/html": [
       "<div>\n",
       "<style scoped>\n",
       "    .dataframe tbody tr th:only-of-type {\n",
       "        vertical-align: middle;\n",
       "    }\n",
       "\n",
       "    .dataframe tbody tr th {\n",
       "        vertical-align: top;\n",
       "    }\n",
       "\n",
       "    .dataframe thead th {\n",
       "        text-align: right;\n",
       "    }\n",
       "</style>\n",
       "<table border=\"1\" class=\"dataframe\">\n",
       "  <thead>\n",
       "    <tr style=\"text-align: right;\">\n",
       "      <th></th>\n",
       "      <th>avgscrread</th>\n",
       "      <th>avgscreng</th>\n",
       "      <th>avgscrmath</th>\n",
       "      <th>avgscrsci</th>\n",
       "      <th>avgcombact</th>\n",
       "      <th>pctge21</th>\n",
       "      <th>11_12_pcterwbenchmark</th>\n",
       "      <th>11_12_pctmathbenchmark</th>\n",
       "      <th>11_12_pctbothbenchmark</th>\n",
       "      <th>med_home</th>\n",
       "    </tr>\n",
       "  </thead>\n",
       "  <tbody>\n",
       "    <tr>\n",
       "      <th>count</th>\n",
       "      <td>54.000000</td>\n",
       "      <td>54.000000</td>\n",
       "      <td>54.000000</td>\n",
       "      <td>54.000000</td>\n",
       "      <td>54.000000</td>\n",
       "      <td>54.000000</td>\n",
       "      <td>54.000000</td>\n",
       "      <td>54.000000</td>\n",
       "      <td>54.000000</td>\n",
       "      <td>5.400000e+01</td>\n",
       "    </tr>\n",
       "    <tr>\n",
       "      <th>mean</th>\n",
       "      <td>22.500985</td>\n",
       "      <td>21.360540</td>\n",
       "      <td>21.589007</td>\n",
       "      <td>21.588834</td>\n",
       "      <td>21.759841</td>\n",
       "      <td>56.029991</td>\n",
       "      <td>75.720144</td>\n",
       "      <td>55.695622</td>\n",
       "      <td>53.261252</td>\n",
       "      <td>4.744833e+05</td>\n",
       "    </tr>\n",
       "    <tr>\n",
       "      <th>std</th>\n",
       "      <td>2.199940</td>\n",
       "      <td>2.313492</td>\n",
       "      <td>1.948546</td>\n",
       "      <td>1.755446</td>\n",
       "      <td>2.028933</td>\n",
       "      <td>16.309580</td>\n",
       "      <td>10.425903</td>\n",
       "      <td>13.338663</td>\n",
       "      <td>13.449389</td>\n",
       "      <td>2.444019e+05</td>\n",
       "    </tr>\n",
       "    <tr>\n",
       "      <th>min</th>\n",
       "      <td>17.400000</td>\n",
       "      <td>15.000000</td>\n",
       "      <td>17.000000</td>\n",
       "      <td>18.000000</td>\n",
       "      <td>16.850000</td>\n",
       "      <td>16.668000</td>\n",
       "      <td>43.869308</td>\n",
       "      <td>33.366349</td>\n",
       "      <td>29.378698</td>\n",
       "      <td>1.480000e+05</td>\n",
       "    </tr>\n",
       "    <tr>\n",
       "      <th>25%</th>\n",
       "      <td>20.693515</td>\n",
       "      <td>19.447727</td>\n",
       "      <td>20.020833</td>\n",
       "      <td>20.040969</td>\n",
       "      <td>20.022204</td>\n",
       "      <td>42.731170</td>\n",
       "      <td>67.317684</td>\n",
       "      <td>43.994821</td>\n",
       "      <td>41.511272</td>\n",
       "      <td>2.984500e+05</td>\n",
       "    </tr>\n",
       "    <tr>\n",
       "      <th>50%</th>\n",
       "      <td>22.850000</td>\n",
       "      <td>21.750000</td>\n",
       "      <td>22.000000</td>\n",
       "      <td>22.062500</td>\n",
       "      <td>22.296875</td>\n",
       "      <td>59.082760</td>\n",
       "      <td>78.188909</td>\n",
       "      <td>57.149699</td>\n",
       "      <td>55.520128</td>\n",
       "      <td>3.809500e+05</td>\n",
       "    </tr>\n",
       "    <tr>\n",
       "      <th>75%</th>\n",
       "      <td>24.194643</td>\n",
       "      <td>23.280952</td>\n",
       "      <td>23.075000</td>\n",
       "      <td>23.000000</td>\n",
       "      <td>23.500000</td>\n",
       "      <td>69.625119</td>\n",
       "      <td>82.397149</td>\n",
       "      <td>65.692880</td>\n",
       "      <td>63.354140</td>\n",
       "      <td>6.317500e+05</td>\n",
       "    </tr>\n",
       "    <tr>\n",
       "      <th>max</th>\n",
       "      <td>26.181818</td>\n",
       "      <td>25.636364</td>\n",
       "      <td>24.842105</td>\n",
       "      <td>24.526316</td>\n",
       "      <td>25.159091</td>\n",
       "      <td>85.173333</td>\n",
       "      <td>92.144688</td>\n",
       "      <td>82.986137</td>\n",
       "      <td>81.694294</td>\n",
       "      <td>1.123400e+06</td>\n",
       "    </tr>\n",
       "  </tbody>\n",
       "</table>\n",
       "</div>"
      ],
      "text/plain": [
       "       avgscrread  avgscreng  avgscrmath  avgscrsci  avgcombact    pctge21  \\\n",
       "count   54.000000  54.000000   54.000000  54.000000   54.000000  54.000000   \n",
       "mean    22.500985  21.360540   21.589007  21.588834   21.759841  56.029991   \n",
       "std      2.199940   2.313492    1.948546   1.755446    2.028933  16.309580   \n",
       "min     17.400000  15.000000   17.000000  18.000000   16.850000  16.668000   \n",
       "25%     20.693515  19.447727   20.020833  20.040969   20.022204  42.731170   \n",
       "50%     22.850000  21.750000   22.000000  22.062500   22.296875  59.082760   \n",
       "75%     24.194643  23.280952   23.075000  23.000000   23.500000  69.625119   \n",
       "max     26.181818  25.636364   24.842105  24.526316   25.159091  85.173333   \n",
       "\n",
       "       11_12_pcterwbenchmark  11_12_pctmathbenchmark  11_12_pctbothbenchmark  \\\n",
       "count              54.000000               54.000000               54.000000   \n",
       "mean               75.720144               55.695622               53.261252   \n",
       "std                10.425903               13.338663               13.449389   \n",
       "min                43.869308               33.366349               29.378698   \n",
       "25%                67.317684               43.994821               41.511272   \n",
       "50%                78.188909               57.149699               55.520128   \n",
       "75%                82.397149               65.692880               63.354140   \n",
       "max                92.144688               82.986137               81.694294   \n",
       "\n",
       "           med_home  \n",
       "count  5.400000e+01  \n",
       "mean   4.744833e+05  \n",
       "std    2.444019e+05  \n",
       "min    1.480000e+05  \n",
       "25%    2.984500e+05  \n",
       "50%    3.809500e+05  \n",
       "75%    6.317500e+05  \n",
       "max    1.123400e+06  "
      ]
     },
     "execution_count": 123,
     "metadata": {},
     "output_type": "execute_result"
    }
   ],
   "source": [
    "# Summary statistics for all columns in dataframe\n",
    "c_merge.describe()"
   ]
  },
  {
   "cell_type": "code",
   "execution_count": 124,
   "metadata": {},
   "outputs": [],
   "source": [
    "stdev_dict = {col:calc_stdev(c_merge[col]) for col in c_merge.columns if col != 'cname'}"
   ]
  },
  {
   "cell_type": "code",
   "execution_count": 125,
   "metadata": {},
   "outputs": [
    {
     "data": {
      "text/html": [
       "<div>\n",
       "<style scoped>\n",
       "    .dataframe tbody tr th:only-of-type {\n",
       "        vertical-align: middle;\n",
       "    }\n",
       "\n",
       "    .dataframe tbody tr th {\n",
       "        vertical-align: top;\n",
       "    }\n",
       "\n",
       "    .dataframe thead th {\n",
       "        text-align: right;\n",
       "    }\n",
       "</style>\n",
       "<table border=\"1\" class=\"dataframe\">\n",
       "  <thead>\n",
       "    <tr style=\"text-align: right;\">\n",
       "      <th></th>\n",
       "      <th>cname</th>\n",
       "      <th>med_home</th>\n",
       "    </tr>\n",
       "  </thead>\n",
       "  <tbody>\n",
       "    <tr>\n",
       "      <th>22</th>\n",
       "      <td>Modoc</td>\n",
       "      <td>148000.0</td>\n",
       "    </tr>\n",
       "    <tr>\n",
       "      <th>42</th>\n",
       "      <td>Siskiyou</td>\n",
       "      <td>209400.0</td>\n",
       "    </tr>\n",
       "    <tr>\n",
       "      <th>15</th>\n",
       "      <td>Lassen</td>\n",
       "      <td>213700.0</td>\n",
       "    </tr>\n",
       "    <tr>\n",
       "      <th>10</th>\n",
       "      <td>Imperial</td>\n",
       "      <td>244300.0</td>\n",
       "    </tr>\n",
       "    <tr>\n",
       "      <th>8</th>\n",
       "      <td>Glenn</td>\n",
       "      <td>245500.0</td>\n",
       "    </tr>\n",
       "    <tr>\n",
       "      <th>12</th>\n",
       "      <td>Kern</td>\n",
       "      <td>253000.0</td>\n",
       "    </tr>\n",
       "    <tr>\n",
       "      <th>48</th>\n",
       "      <td>Tehama</td>\n",
       "      <td>256300.0</td>\n",
       "    </tr>\n",
       "    <tr>\n",
       "      <th>50</th>\n",
       "      <td>Tulare</td>\n",
       "      <td>260300.0</td>\n",
       "    </tr>\n",
       "    <tr>\n",
       "      <th>13</th>\n",
       "      <td>Kings</td>\n",
       "      <td>265200.0</td>\n",
       "    </tr>\n",
       "    <tr>\n",
       "      <th>14</th>\n",
       "      <td>Lake</td>\n",
       "      <td>268700.0</td>\n",
       "    </tr>\n",
       "    <tr>\n",
       "      <th>4</th>\n",
       "      <td>Colusa</td>\n",
       "      <td>279200.0</td>\n",
       "    </tr>\n",
       "    <tr>\n",
       "      <th>11</th>\n",
       "      <td>Inyo</td>\n",
       "      <td>283300.0</td>\n",
       "    </tr>\n",
       "    <tr>\n",
       "      <th>19</th>\n",
       "      <td>Mariposa</td>\n",
       "      <td>290200.0</td>\n",
       "    </tr>\n",
       "    <tr>\n",
       "      <th>41</th>\n",
       "      <td>Shasta</td>\n",
       "      <td>297700.0</td>\n",
       "    </tr>\n",
       "    <tr>\n",
       "      <th>21</th>\n",
       "      <td>Merced</td>\n",
       "      <td>300700.0</td>\n",
       "    </tr>\n",
       "  </tbody>\n",
       "</table>\n",
       "</div>"
      ],
      "text/plain": [
       "       cname  med_home\n",
       "22     Modoc  148000.0\n",
       "42  Siskiyou  209400.0\n",
       "15    Lassen  213700.0\n",
       "10  Imperial  244300.0\n",
       "8      Glenn  245500.0\n",
       "12      Kern  253000.0\n",
       "48    Tehama  256300.0\n",
       "50    Tulare  260300.0\n",
       "13     Kings  265200.0\n",
       "14      Lake  268700.0\n",
       "4     Colusa  279200.0\n",
       "11      Inyo  283300.0\n",
       "19  Mariposa  290200.0\n",
       "41    Shasta  297700.0\n",
       "21    Merced  300700.0"
      ]
     },
     "execution_count": 125,
     "metadata": {},
     "output_type": "execute_result"
    }
   ],
   "source": [
    "# Listing the least expensive counties\n",
    "c_merge[['cname', 'med_home']].sort_values( 'med_home', ascending = True).head(15)"
   ]
  },
  {
   "cell_type": "code",
   "execution_count": 126,
   "metadata": {},
   "outputs": [
    {
     "data": {
      "text/html": [
       "<div>\n",
       "<style scoped>\n",
       "    .dataframe tbody tr th:only-of-type {\n",
       "        vertical-align: middle;\n",
       "    }\n",
       "\n",
       "    .dataframe tbody tr th {\n",
       "        vertical-align: top;\n",
       "    }\n",
       "\n",
       "    .dataframe thead th {\n",
       "        text-align: right;\n",
       "    }\n",
       "</style>\n",
       "<table border=\"1\" class=\"dataframe\">\n",
       "  <thead>\n",
       "    <tr style=\"text-align: right;\">\n",
       "      <th></th>\n",
       "      <th>cname</th>\n",
       "      <th>avgcombact</th>\n",
       "    </tr>\n",
       "  </thead>\n",
       "  <tbody>\n",
       "    <tr>\n",
       "      <th>23</th>\n",
       "      <td>Mono</td>\n",
       "      <td>24.500000</td>\n",
       "    </tr>\n",
       "    <tr>\n",
       "      <th>41</th>\n",
       "      <td>Shasta</td>\n",
       "      <td>24.125000</td>\n",
       "    </tr>\n",
       "    <tr>\n",
       "      <th>3</th>\n",
       "      <td>Calaveras</td>\n",
       "      <td>23.833333</td>\n",
       "    </tr>\n",
       "    <tr>\n",
       "      <th>9</th>\n",
       "      <td>Humboldt</td>\n",
       "      <td>23.785714</td>\n",
       "    </tr>\n",
       "    <tr>\n",
       "      <th>51</th>\n",
       "      <td>Tuolumne</td>\n",
       "      <td>23.750000</td>\n",
       "    </tr>\n",
       "    <tr>\n",
       "      <th>49</th>\n",
       "      <td>Trinity</td>\n",
       "      <td>23.500000</td>\n",
       "    </tr>\n",
       "    <tr>\n",
       "      <th>20</th>\n",
       "      <td>Mendocino</td>\n",
       "      <td>23.350000</td>\n",
       "    </tr>\n",
       "    <tr>\n",
       "      <th>1</th>\n",
       "      <td>Amador</td>\n",
       "      <td>23.062500</td>\n",
       "    </tr>\n",
       "    <tr>\n",
       "      <th>19</th>\n",
       "      <td>Mariposa</td>\n",
       "      <td>22.750000</td>\n",
       "    </tr>\n",
       "    <tr>\n",
       "      <th>2</th>\n",
       "      <td>Butte</td>\n",
       "      <td>22.450000</td>\n",
       "    </tr>\n",
       "    <tr>\n",
       "      <th>43</th>\n",
       "      <td>Solano</td>\n",
       "      <td>22.343750</td>\n",
       "    </tr>\n",
       "    <tr>\n",
       "      <th>11</th>\n",
       "      <td>Inyo</td>\n",
       "      <td>22.250000</td>\n",
       "    </tr>\n",
       "    <tr>\n",
       "      <th>47</th>\n",
       "      <td>Sutter</td>\n",
       "      <td>21.968750</td>\n",
       "    </tr>\n",
       "    <tr>\n",
       "      <th>45</th>\n",
       "      <td>Stanislaus</td>\n",
       "      <td>21.657895</td>\n",
       "    </tr>\n",
       "    <tr>\n",
       "      <th>15</th>\n",
       "      <td>Lassen</td>\n",
       "      <td>21.250000</td>\n",
       "    </tr>\n",
       "  </tbody>\n",
       "</table>\n",
       "</div>"
      ],
      "text/plain": [
       "         cname  avgcombact\n",
       "23        Mono   24.500000\n",
       "41      Shasta   24.125000\n",
       "3    Calaveras   23.833333\n",
       "9     Humboldt   23.785714\n",
       "51    Tuolumne   23.750000\n",
       "49     Trinity   23.500000\n",
       "20   Mendocino   23.350000\n",
       "1       Amador   23.062500\n",
       "19    Mariposa   22.750000\n",
       "2        Butte   22.450000\n",
       "43      Solano   22.343750\n",
       "11        Inyo   22.250000\n",
       "47      Sutter   21.968750\n",
       "45  Stanislaus   21.657895\n",
       "15      Lassen   21.250000"
      ]
     },
     "execution_count": 126,
     "metadata": {},
     "output_type": "execute_result"
    }
   ],
   "source": [
    "# Determining the top performing counties by ACTs with a median home value under $500,000\n",
    "c_merge.loc[c_merge['med_home']<500_000 , ['cname', 'avgcombact']].sort_values('avgcombact', ascending = False).head(15)"
   ]
  },
  {
   "cell_type": "code",
   "execution_count": 127,
   "metadata": {},
   "outputs": [
    {
     "data": {
      "text/html": [
       "<div>\n",
       "<style scoped>\n",
       "    .dataframe tbody tr th:only-of-type {\n",
       "        vertical-align: middle;\n",
       "    }\n",
       "\n",
       "    .dataframe tbody tr th {\n",
       "        vertical-align: top;\n",
       "    }\n",
       "\n",
       "    .dataframe thead th {\n",
       "        text-align: right;\n",
       "    }\n",
       "</style>\n",
       "<table border=\"1\" class=\"dataframe\">\n",
       "  <thead>\n",
       "    <tr style=\"text-align: right;\">\n",
       "      <th></th>\n",
       "      <th>cname</th>\n",
       "      <th>pctge21</th>\n",
       "      <th>med_home</th>\n",
       "    </tr>\n",
       "  </thead>\n",
       "  <tbody>\n",
       "    <tr>\n",
       "      <th>3</th>\n",
       "      <td>Calaveras</td>\n",
       "      <td>85.173333</td>\n",
       "      <td>336300.0</td>\n",
       "    </tr>\n",
       "    <tr>\n",
       "      <th>23</th>\n",
       "      <td>Mono</td>\n",
       "      <td>79.300000</td>\n",
       "      <td>329000.0</td>\n",
       "    </tr>\n",
       "    <tr>\n",
       "      <th>1</th>\n",
       "      <td>Amador</td>\n",
       "      <td>78.970000</td>\n",
       "      <td>330200.0</td>\n",
       "    </tr>\n",
       "    <tr>\n",
       "      <th>51</th>\n",
       "      <td>Tuolumne</td>\n",
       "      <td>78.260000</td>\n",
       "      <td>304500.0</td>\n",
       "    </tr>\n",
       "    <tr>\n",
       "      <th>18</th>\n",
       "      <td>Marin</td>\n",
       "      <td>76.794545</td>\n",
       "      <td>982400.0</td>\n",
       "    </tr>\n",
       "    <tr>\n",
       "      <th>28</th>\n",
       "      <td>Placer</td>\n",
       "      <td>75.232000</td>\n",
       "      <td>570200.0</td>\n",
       "    </tr>\n",
       "    <tr>\n",
       "      <th>41</th>\n",
       "      <td>Shasta</td>\n",
       "      <td>74.837500</td>\n",
       "      <td>297700.0</td>\n",
       "    </tr>\n",
       "    <tr>\n",
       "      <th>26</th>\n",
       "      <td>Nevada</td>\n",
       "      <td>74.695000</td>\n",
       "      <td>510600.0</td>\n",
       "    </tr>\n",
       "    <tr>\n",
       "      <th>49</th>\n",
       "      <td>Trinity</td>\n",
       "      <td>73.330000</td>\n",
       "      <td>302900.0</td>\n",
       "    </tr>\n",
       "    <tr>\n",
       "      <th>39</th>\n",
       "      <td>Santa Clara</td>\n",
       "      <td>70.945614</td>\n",
       "      <td>1120400.0</td>\n",
       "    </tr>\n",
       "  </tbody>\n",
       "</table>\n",
       "</div>"
      ],
      "text/plain": [
       "          cname    pctge21   med_home\n",
       "3     Calaveras  85.173333   336300.0\n",
       "23         Mono  79.300000   329000.0\n",
       "1        Amador  78.970000   330200.0\n",
       "51     Tuolumne  78.260000   304500.0\n",
       "18        Marin  76.794545   982400.0\n",
       "28       Placer  75.232000   570200.0\n",
       "41       Shasta  74.837500   297700.0\n",
       "26       Nevada  74.695000   510600.0\n",
       "49      Trinity  73.330000   302900.0\n",
       "39  Santa Clara  70.945614  1120400.0"
      ]
     },
     "execution_count": 127,
     "metadata": {},
     "output_type": "execute_result"
    }
   ],
   "source": [
    "# Listing the top 10 counties in terms of percent of test takers who outperform the ACT Benchmark\n",
    "c_merge[['cname','pctge21','med_home']].sort_values('pctge21', ascending = False).head(10)"
   ]
  },
  {
   "cell_type": "code",
   "execution_count": 156,
   "metadata": {},
   "outputs": [
    {
     "data": {
      "text/html": [
       "<div>\n",
       "<style scoped>\n",
       "    .dataframe tbody tr th:only-of-type {\n",
       "        vertical-align: middle;\n",
       "    }\n",
       "\n",
       "    .dataframe tbody tr th {\n",
       "        vertical-align: top;\n",
       "    }\n",
       "\n",
       "    .dataframe thead th {\n",
       "        text-align: right;\n",
       "    }\n",
       "</style>\n",
       "<table border=\"1\" class=\"dataframe\">\n",
       "  <thead>\n",
       "    <tr style=\"text-align: right;\">\n",
       "      <th></th>\n",
       "      <th>cname</th>\n",
       "      <th>avgcombact</th>\n",
       "      <th>pctge21</th>\n",
       "      <th>11_12_pctbothbenchmark</th>\n",
       "      <th>med_home</th>\n",
       "    </tr>\n",
       "  </thead>\n",
       "  <tbody>\n",
       "    <tr>\n",
       "      <th>0</th>\n",
       "      <td>Marin</td>\n",
       "      <td>25.159091</td>\n",
       "      <td>76.794545</td>\n",
       "      <td>67.783231</td>\n",
       "      <td>982400.0</td>\n",
       "    </tr>\n",
       "    <tr>\n",
       "      <th>1</th>\n",
       "      <td>San Luis Obispo</td>\n",
       "      <td>23.500000</td>\n",
       "      <td>70.008462</td>\n",
       "      <td>68.990099</td>\n",
       "      <td>658600.0</td>\n",
       "    </tr>\n",
       "    <tr>\n",
       "      <th>2</th>\n",
       "      <td>Placer</td>\n",
       "      <td>24.087500</td>\n",
       "      <td>75.232000</td>\n",
       "      <td>73.055545</td>\n",
       "      <td>570200.0</td>\n",
       "    </tr>\n",
       "    <tr>\n",
       "      <th>3</th>\n",
       "      <td>El Dorado</td>\n",
       "      <td>23.625000</td>\n",
       "      <td>70.668750</td>\n",
       "      <td>76.339595</td>\n",
       "      <td>535300.0</td>\n",
       "    </tr>\n",
       "    <tr>\n",
       "      <th>4</th>\n",
       "      <td>Nevada</td>\n",
       "      <td>24.125000</td>\n",
       "      <td>74.695000</td>\n",
       "      <td>81.694294</td>\n",
       "      <td>510600.0</td>\n",
       "    </tr>\n",
       "    <tr>\n",
       "      <th>5</th>\n",
       "      <td>Calaveras</td>\n",
       "      <td>23.833333</td>\n",
       "      <td>85.173333</td>\n",
       "      <td>66.722096</td>\n",
       "      <td>336300.0</td>\n",
       "    </tr>\n",
       "    <tr>\n",
       "      <th>6</th>\n",
       "      <td>Amador</td>\n",
       "      <td>23.062500</td>\n",
       "      <td>78.970000</td>\n",
       "      <td>70.194683</td>\n",
       "      <td>330200.0</td>\n",
       "    </tr>\n",
       "    <tr>\n",
       "      <th>7</th>\n",
       "      <td>Mono</td>\n",
       "      <td>24.500000</td>\n",
       "      <td>79.300000</td>\n",
       "      <td>64.489284</td>\n",
       "      <td>329000.0</td>\n",
       "    </tr>\n",
       "    <tr>\n",
       "      <th>8</th>\n",
       "      <td>Tuolumne</td>\n",
       "      <td>23.750000</td>\n",
       "      <td>78.260000</td>\n",
       "      <td>67.076350</td>\n",
       "      <td>304500.0</td>\n",
       "    </tr>\n",
       "    <tr>\n",
       "      <th>9</th>\n",
       "      <td>Trinity</td>\n",
       "      <td>23.500000</td>\n",
       "      <td>73.330000</td>\n",
       "      <td>63.928330</td>\n",
       "      <td>302900.0</td>\n",
       "    </tr>\n",
       "    <tr>\n",
       "      <th>10</th>\n",
       "      <td>Shasta</td>\n",
       "      <td>24.125000</td>\n",
       "      <td>74.837500</td>\n",
       "      <td>65.747951</td>\n",
       "      <td>297700.0</td>\n",
       "    </tr>\n",
       "  </tbody>\n",
       "</table>\n",
       "</div>"
      ],
      "text/plain": [
       "              cname  avgcombact    pctge21  11_12_pctbothbenchmark  med_home\n",
       "0             Marin   25.159091  76.794545               67.783231  982400.0\n",
       "1   San Luis Obispo   23.500000  70.008462               68.990099  658600.0\n",
       "2            Placer   24.087500  75.232000               73.055545  570200.0\n",
       "3         El Dorado   23.625000  70.668750               76.339595  535300.0\n",
       "4            Nevada   24.125000  74.695000               81.694294  510600.0\n",
       "5         Calaveras   23.833333  85.173333               66.722096  336300.0\n",
       "6            Amador   23.062500  78.970000               70.194683  330200.0\n",
       "7              Mono   24.500000  79.300000               64.489284  329000.0\n",
       "8          Tuolumne   23.750000  78.260000               67.076350  304500.0\n",
       "9           Trinity   23.500000  73.330000               63.928330  302900.0\n",
       "10           Shasta   24.125000  74.837500               65.747951  297700.0"
      ]
     },
     "execution_count": 156,
     "metadata": {},
     "output_type": "execute_result"
    }
   ],
   "source": [
    "# Getting Values to determine top performers\n",
    "top_25_act = c_merge.describe()['pctge21']['75%']\n",
    "top_25_sat = c_merge.describe()['11_12_pctbothbenchmark']['75%']\n",
    "# Creating Dataframe of top performing counties\n",
    "top_coun = c_merge.loc[(c_merge['pctge21'] > top_25_act) & (c_merge['11_12_pctbothbenchmark'] > top_25_sat), \n",
    "                       ['cname','avgcombact','pctge21','11_12_pctbothbenchmark',\n",
    "                        'med_home']].sort_values('med_home', ascending = False).reset_index().drop(columns = 'index')\n",
    "top_coun"
   ]
  },
  {
   "cell_type": "markdown",
   "metadata": {},
   "source": [
    "**Findings:** When looking at average act scores, there are plenty of counties with median home values below \\\\$500,000(Cheap by California standards) that perform very well. Thirteen of these counties are above average in ACT scores with six of them being in the top 25th percentile. Furthermore, when looking at the percent of students who outperform the benchmark, the majority of counties in the top 10 have a median home price less than \\\\$400,000. This is a good signal that I will be able to accomplish my goal of finding counties that can provide a strong education without being too expensive."
   ]
  },
  {
   "cell_type": "markdown",
   "metadata": {},
   "source": [
    "## Visualize the Data\n",
    "\n",
    "There's not a magic bullet recommendation for the right number of plots to understand a given dataset, but visualizing your data is *always* a good idea. Not only does it allow you to quickly convey your findings (even if you have a non-technical audience), it will often reveal trends in your data that escaped you when you were looking only at numbers. It is important to not only create visualizations, but to **interpret your visualizations** as well.\n",
    "\n",
    "**Every plot should**:\n",
    "- Have a title\n",
    "- Have axis labels\n",
    "- Have appropriate tick labels\n",
    "- Text is legible in a plot\n",
    "- Plots demonstrate meaningful and valid relationships\n",
    "- Have an interpretation to aid understanding\n",
    "\n",
    "Here is an example of what your plots should look like following the above guidelines. Note that while the content of this example is unrelated, the principles of visualization hold:\n",
    "\n",
    "![](https://snag.gy/hCBR1U.jpg)\n",
    "*Interpretation: The above image shows that as we increase our spending on advertising, our sales numbers also tend to increase. There is a positive correlation between advertising spending and sales.*\n",
    "\n",
    "---\n",
    "\n",
    "Here are some prompts to get you started with visualizations. Feel free to add additional visualizations as you see fit:\n",
    "1. Use Seaborn's heatmap with pandas `.corr()` to visualize correlations between all numeric features.\n",
    "    - Heatmaps are generally not appropriate for presentations, and should often be excluded from reports as they can be visually overwhelming. **However**, they can be extremely useful in identify relationships of potential interest (as well as identifying potential collinearity before modeling).\n",
    "    - Please take time to format your output, adding a title. Look through some of the additional arguments and options. (Axis labels aren't really necessary, as long as the title is informative).\n",
    "2. Visualize distributions using histograms. If you have a lot, consider writing a custom function and use subplots.\n",
    "    - *OPTIONAL*: Summarize the underlying distributions of your features (in words & statistics)\n",
    "         - Be thorough in your verbal description of these distributions.\n",
    "         - Be sure to back up these summaries with statistics.\n",
    "         - We generally assume that data we sample from a population will be normally distributed. Do we observe this trend? Explain your answers for each distribution and how you think this will affect estimates made from these data.\n",
    "3. Plot and interpret boxplots. \n",
    "    - Boxplots demonstrate central tendency and spread in variables. In a certain sense, these are somewhat redundant with histograms, but you may be better able to identify clear outliers or differences in IQR, etc.\n",
    "    - Multiple values can be plotted to a single boxplot as long as they are of the same relative scale (meaning they have similar min/max values).\n",
    "    - Each boxplot should:\n",
    "        - Only include variables of a similar scale\n",
    "        - Have clear labels for each variable\n",
    "        - Have appropriate titles and labels\n",
    "4. Plot and interpret scatter plots to view relationships between features. Feel free to write a custom function, and subplot if you'd like. Functions save both time and space.\n",
    "    - Your plots should have:\n",
    "        - Two clearly labeled axes\n",
    "        - A proper title\n",
    "        - Colors and symbols that are clear and unmistakable\n",
    "5. Additional plots of your choosing.\n",
    "    - Are there any additional trends or relationships you haven't explored? Was there something interesting you saw that you'd like to dive further into? It's likely that there are a few more plots you might want to generate to support your narrative and recommendations that you are building toward. **As always, make sure you're interpreting your plots as you go**."
   ]
  },
  {
   "cell_type": "code",
   "execution_count": 147,
   "metadata": {
    "scrolled": false
   },
   "outputs": [
    {
     "data": {
      "image/png": "[encoded data removed]",
      "text/plain": [
       "<Figure size 576x576 with 1 Axes>"
      ]
     },
     "metadata": {
      "needs_background": "light"
     },
     "output_type": "display_data"
    }
   ],
   "source": [
    "fig, ax = plt.subplots(1,1, figsize = (8,8))\n",
    "\n",
    "ax.hist(c_merge['med_home'],\n",
    "       rwidth = .98,\n",
    "       bins = 6);\n",
    "ax.set_xlabel('Median Home Value (Millions of $)',\n",
    "             fontsize = 13)\n",
    "ax.set_ylabel('Number of Counties',\n",
    "             fontsize = 13\n",
    "            )\n",
    "ax.set_title('Figure 1. Number of Counties by Median Home Value',\n",
    "            fontsize = 15);"
   ]
  },
  {
   "cell_type": "markdown",
   "metadata": {},
   "source": [
    "**Description:** Though California is known for its incredibly high real estate costs, most counties have fairly reasonable median home values below \\\\$500,000. Some counties do reach very high median home values, with some being over \\\\$1,000,000."
   ]
  },
  {
   "cell_type": "code",
   "execution_count": 148,
   "metadata": {},
   "outputs": [
    {
     "data": {
      "image/png": "[encoded data removed]",
      "text/plain": [
       "<Figure size 576x576 with 1 Axes>"
      ]
     },
     "metadata": {
      "needs_background": "light"
     },
     "output_type": "display_data"
    }
   ],
   "source": [
    "fig,ax = plt.subplots(1,1, figsize = (8,8))\n",
    "#ax.hist(c_merge['avgcombact'],\n",
    "#       bins = 7)\n",
    "ax.hist((c_merge['pctge21'] + c_merge['11_12_pctbothbenchmark'])/2, bins = 8, rwidth = .98\n",
    "       )\n",
    "ax.set_xlabel('Average of SAT and ACT % over benchmark',\n",
    "             fontsize = 13)\n",
    "ax.set_ylabel('Number of Counties',\n",
    "             fontsize = 13)\n",
    "ax.set_title('Figure 2. Counties per Average % over Benchmark for ACTs & SATs',\n",
    "            fontsize = 15);"
   ]
  },
  {
   "cell_type": "markdown",
   "metadata": {},
   "source": [
    "**Description:** This averages the $%$ of students that scored above the benchmarks for ACTs and SATs across counties. This distribution is fairly uniform, but with two modes. One mode is in the 35% to 45% range with another in the 55% to 65% range."
   ]
  },
  {
   "cell_type": "code",
   "execution_count": 154,
   "metadata": {},
   "outputs": [
    {
     "data": {
      "image/png": "[encoded data removed]",
      "text/plain": [
       "<Figure size 576x576 with 1 Axes>"
      ]
     },
     "metadata": {
      "needs_background": "light"
     },
     "output_type": "display_data"
    }
   ],
   "source": [
    "# Creating categories by median home price\n",
    "low_cost = c_merge[c_merge['med_home']<= 350_000]\n",
    "med_cost = c_merge[(c_merge['med_home'] > 350_000) & (c_merge['med_home'] <= 600_000)]\n",
    "high_cost = c_merge[c_merge['med_home'] > 600_000]\n",
    "# Bar graph of average of sat and act pct above benchmark by categorized median home value\n",
    "fig,ax = plt.subplots(1,1, figsize = (8,8))\n",
    "ax.bar(x = ['Low Cost','Medium Cost', 'High Cost'],\n",
    "       height = [(np.average(low_cost['pctge21']) + np.average(low_cost['11_12_pctbothbenchmark']))/2, (np.average(med_cost['pctge21']) + np.average(med_cost['11_12_pctbothbenchmark']))/2, (np.average(high_cost['pctge21']) + np.average(high_cost['11_12_pctbothbenchmark']))/2],\n",
    "      )\n",
    "ax.set_ylabel('Average of SAT and ACT % over benchmark',\n",
    "             fontsize = 13)\n",
    "ax.set_xlabel('Median Home Value Category',\n",
    "             fontsize = 13)\n",
    "ax.set_title('Figure 3. Average Percent over Benchmark of SATs and ACTs by Categorized Median Home Value',\n",
    "            fontsize=15);\n",
    "\n",
    "\n"
   ]
  },
  {
   "cell_type": "code",
   "execution_count": 149,
   "metadata": {},
   "outputs": [
    {
     "data": {
      "image/png": "[encoded data removed]",
      "text/plain": [
       "<Figure size 576x576 with 1 Axes>"
      ]
     },
     "metadata": {
      "needs_background": "light"
     },
     "output_type": "display_data"
    }
   ],
   "source": [
    "\n",
    "fig,ax = plt.subplots(1,1, figsize = (8,8))\n",
    "\n",
    "ax.scatter(low_cost['11_12_pctbothbenchmark'], low_cost['pctge21'],\n",
    "           color = 'green', #mark color\n",
    "          s=80, #mark size\n",
    "          alpha = .3, #mark transparency\n",
    "           label = 'Median Home Value below 350,000'\n",
    "          )\n",
    "ax.scatter(med_cost['11_12_pctbothbenchmark'], med_cost['pctge21'],\n",
    "           color = 'blue', #mark color\n",
    "          s=80, #mark size\n",
    "          alpha = .3, #mark transparency\n",
    "           label = 'Median Home Value in 350,000 - 600,000'\n",
    "          )\n",
    "ax.scatter(high_cost['11_12_pctbothbenchmark'], high_cost['pctge21'],\n",
    "           color = 'red', #mark color\n",
    "          s=80, #mark size\n",
    "          alpha = .3, #mark transparency\n",
    "           label = 'Median Home Value above 600,000'\n",
    "          )\n",
    "\n",
    "ax.axhspan(ymin = top_25_act, ymax = 90,\n",
    "          xmin = .63, color = 'yellow', alpha =.05)\n",
    "\n",
    "ax.axhline(y = top_25_act,\n",
    "          color = 'red',\n",
    "           linewidth = 2,\n",
    "           )\n",
    "ax.axvline(x = top_25_sat,\n",
    "          color = 'red',\n",
    "          linewidth = 2,\n",
    "          label = '75th percentile')\n",
    "ax.legend()\n",
    "\n",
    "ax.set_xlabel('% SAT over benchmark',\n",
    "             fontsize=13)\n",
    "ax.set_ylabel('% ACT over benchmark',\n",
    "             fontsize=13)\n",
    "ax.set_title('Figure 4. Scatterplot of Counties Based on SAT and ACT pct over Benchmark',\n",
    "            fontsize = 15,\n",
    "            loc = 'center',\n",
    "             pad = 10\n",
    "            );"
   ]
  },
  {
   "cell_type": "markdown",
   "metadata": {},
   "source": [
    "**Description:** This shows the distribution of how counties perform in both ACTs and SATs. In general, the high cost and medium cost counties are outperforming the low cost counties but there are some low cost counties that perform very well. The counties in the top right quadrant are in the top 25 percent for both tests. I will be focusing on these counties for the rest of the analysis."
   ]
  },
  {
   "cell_type": "code",
   "execution_count": 150,
   "metadata": {},
   "outputs": [
    {
     "data": {
      "image/png": "[encoded data removed]",
      "text/plain": [
       "<Figure size 576x576 with 1 Axes>"
      ]
     },
     "metadata": {
      "needs_background": "light"
     },
     "output_type": "display_data"
    }
   ],
   "source": [
    "# Creating categories by median home price\n",
    "top_low_cost = top_coun[top_coun['med_home']<= 350_000]\n",
    "top_med_cost = top_coun[(top_coun['med_home'] > 350_000) & (top_coun['med_home'] <= 600_000)]\n",
    "top_high_cost = top_coun[top_coun['med_home'] > 600_000]\n",
    "\n",
    "fig,ax = plt.subplots(1,1, figsize = (8,8))\n",
    "\n",
    "ax.scatter(top_low_cost['11_12_pctbothbenchmark'], top_low_cost['pctge21'],\n",
    "           color = 'green', #mark color\n",
    "          s=80, #mark size\n",
    "          alpha = .3, #mark transparency\n",
    "           label = 'Median Home Value below 350,000'\n",
    "          )\n",
    "ax.scatter(top_med_cost['11_12_pctbothbenchmark'], top_med_cost['pctge21'],\n",
    "           color = 'blue', #mark color\n",
    "          s=80, #mark size\n",
    "          alpha = .3, #mark transparency\n",
    "           label = 'Median Home Value in 350,000 - 600,000'\n",
    "          )\n",
    "ax.scatter(top_high_cost['11_12_pctbothbenchmark'], top_high_cost['pctge21'],\n",
    "           color = 'red', #mark color\n",
    "          s=80, #mark size\n",
    "          alpha = .3, #mark transparency\n",
    "           label = 'Median Home Value above 600,000'\n",
    "          )\n",
    "\n",
    "# Annotating counties. syntax found at:\n",
    "# https://stackoverflow.com/questions/14432557/matplotlib-scatter-plot-with-different-text-at-each-data-point\n",
    "# Making sure that the dataset is ordered in the same way as when the index was reset so it enumerates properly\n",
    "top_coun = top_coun.sort_values('med_home')\n",
    "for i, txt in enumerate(top_coun['cname']):\n",
    "    ax.annotate(txt, (top_coun['11_12_pctbothbenchmark'][i] + .1, top_coun['pctge21'][i] + .1))\n",
    "\n",
    "ax.legend()\n",
    "\n",
    "ax.set_xlabel('% SAT over benchmark',\n",
    "             fontsize=13)\n",
    "ax.set_ylabel('% ACT over benchmark',\n",
    "             fontsize=13)\n",
    "ax.set_title('Figure 5. Top Performing Counties Based on SAT and ACT pct over Benchmark',\n",
    "            fontsize = 15,\n",
    "            loc = 'center',\n",
    "             pad = 10\n",
    "            );"
   ]
  },
  {
   "cell_type": "markdown",
   "metadata": {},
   "source": [
    "**Description:** This is the top quadrant of the last figure. I zoomed in so that it is easier to see the individual points and so that I could annotate the points. Most of these top performing counties are in the low cost category. If a homebuyers priorities are cost and education, these are great counties to buy in."
   ]
  },
  {
   "cell_type": "code",
   "execution_count": 152,
   "metadata": {
    "scrolled": false
   },
   "outputs": [
    {
     "data": {
      "image/png": "[encoded data removed]",
      "text/plain": [
       "<Figure size 1440x576 with 1 Axes>"
      ]
     },
     "metadata": {
      "needs_background": "light"
     },
     "output_type": "display_data"
    }
   ],
   "source": [
    "fig, ax = plt.subplots(1,1,figsize = (20,8))\n",
    "top_coun = top_coun.sort_values('med_home')\n",
    "ax.bar(top_coun['cname'], top_coun['med_home'])\n",
    "ax.set_xlabel('County',\n",
    "             fontsize = 13)\n",
    "ax.set_ylabel('Median Home Value(Millions of $)',\n",
    "             fontsize = 13)\n",
    "ax.set_title('Figure 6. Median Home Values of Top Performing Counties',\n",
    "            fontsize = 15);"
   ]
  },
  {
   "cell_type": "markdown",
   "metadata": {},
   "source": [
    "## Conclusions and Recommendations"
   ]
  },
  {
   "cell_type": "markdown",
   "metadata": {},
   "source": [
    "Based on your exploration of the data, what are you key takeaways and recommendations? Make sure to answer your question of interest or address your problem statement here."
   ]
  },
  {
   "cell_type": "markdown",
   "metadata": {},
   "source": [
    "**Conclusions:** Generally, more expensive counties have had more success on the SATs and ACTs in California. When looking closer at the data, there are some less expensive counties that perform just as well or better than the expensive ones. These are the counties that I would reccomend looking for homes in. "
   ]
  }
 ],
 "metadata": {
  "anaconda-cloud": {},
  "kernelspec": {
   "display_name": "Python 3",
   "language": "python",
   "name": "python3"
  },
  "language_info": {
   "codemirror_mode": {
    "name": "ipython",
    "version": 3
   },
   "file_extension": ".py",
   "mimetype": "text/x-python",
   "name": "python",
   "nbconvert_exporter": "python",
   "pygments_lexer": "ipython3",
   "version": "3.8.5"
  }
 },
 "nbformat": 4,
 "nbformat_minor": 4
}
